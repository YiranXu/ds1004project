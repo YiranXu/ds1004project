{
 "cells": [
  {
   "cell_type": "code",
   "execution_count": 1,
   "metadata": {
    "collapsed": true
   },
   "outputs": [],
   "source": [
    "import numpy as np\n",
    "import pandas as pd\n",
    "import matplotlib.pyplot as plt\n",
    "%matplotlib inline\n",
    "\n",
    "import seaborn as sns\n",
    "sns.set(style=\"whitegrid\", color_codes=True)"
   ]
  },
  {
   "cell_type": "code",
   "execution_count": 2,
   "metadata": {
    "collapsed": true
   },
   "outputs": [],
   "source": [
    " crime=pd.read_csv(\"NumByzip.csv\")"
   ]
  },
  {
   "cell_type": "code",
   "execution_count": 3,
   "metadata": {
    "collapsed": false
   },
   "outputs": [
    {
     "data": {
      "text/html": [
       "<div>\n",
       "<table border=\"1\" class=\"dataframe\">\n",
       "  <thead>\n",
       "    <tr style=\"text-align: right;\">\n",
       "      <th></th>\n",
       "      <th>zip</th>\n",
       "      <th>num</th>\n",
       "    </tr>\n",
       "  </thead>\n",
       "  <tbody>\n",
       "    <tr>\n",
       "      <th>0</th>\n",
       "      <td>10001</td>\n",
       "      <td>116</td>\n",
       "    </tr>\n",
       "    <tr>\n",
       "      <th>1</th>\n",
       "      <td>10002</td>\n",
       "      <td>87</td>\n",
       "    </tr>\n",
       "    <tr>\n",
       "      <th>2</th>\n",
       "      <td>10003</td>\n",
       "      <td>124</td>\n",
       "    </tr>\n",
       "    <tr>\n",
       "      <th>3</th>\n",
       "      <td>10004</td>\n",
       "      <td>4</td>\n",
       "    </tr>\n",
       "    <tr>\n",
       "      <th>4</th>\n",
       "      <td>10005</td>\n",
       "      <td>7</td>\n",
       "    </tr>\n",
       "  </tbody>\n",
       "</table>\n",
       "</div>"
      ],
      "text/plain": [
       "     zip  num\n",
       "0  10001  116\n",
       "1  10002   87\n",
       "2  10003  124\n",
       "3  10004    4\n",
       "4  10005    7"
      ]
     },
     "execution_count": 3,
     "metadata": {},
     "output_type": "execute_result"
    }
   ],
   "source": [
    "crime.head()"
   ]
  },
  {
   "cell_type": "code",
   "execution_count": 7,
   "metadata": {
    "collapsed": true
   },
   "outputs": [],
   "source": [
    "population=pd.read_csv(\"population_density.csv\")"
   ]
  },
  {
   "cell_type": "code",
   "execution_count": 8,
   "metadata": {
    "collapsed": false
   },
   "outputs": [
    {
     "data": {
      "text/html": [
       "<div>\n",
       "<table border=\"1\" class=\"dataframe\">\n",
       "  <thead>\n",
       "    <tr style=\"text-align: right;\">\n",
       "      <th></th>\n",
       "      <th>﻿zipcode</th>\n",
       "      <th>density</th>\n",
       "      <th>population</th>\n",
       "    </tr>\n",
       "  </thead>\n",
       "  <tbody>\n",
       "    <tr>\n",
       "      <th>0</th>\n",
       "      <td>10001</td>\n",
       "      <td>35350</td>\n",
       "      <td>21102</td>\n",
       "    </tr>\n",
       "    <tr>\n",
       "      <th>1</th>\n",
       "      <td>10002</td>\n",
       "      <td>93461</td>\n",
       "      <td>81410</td>\n",
       "    </tr>\n",
       "    <tr>\n",
       "      <th>2</th>\n",
       "      <td>10003</td>\n",
       "      <td>99419</td>\n",
       "      <td>56024</td>\n",
       "    </tr>\n",
       "    <tr>\n",
       "      <th>3</th>\n",
       "      <td>10004</td>\n",
       "      <td>5015</td>\n",
       "      <td>3089</td>\n",
       "    </tr>\n",
       "    <tr>\n",
       "      <th>4</th>\n",
       "      <td>10005</td>\n",
       "      <td>92791</td>\n",
       "      <td>7135</td>\n",
       "    </tr>\n",
       "  </tbody>\n",
       "</table>\n",
       "</div>"
      ],
      "text/plain": [
       "   ﻿zipcode  density  population\n",
       "0     10001    35350       21102\n",
       "1     10002    93461       81410\n",
       "2     10003    99419       56024\n",
       "3     10004     5015        3089\n",
       "4     10005    92791        7135"
      ]
     },
     "execution_count": 8,
     "metadata": {},
     "output_type": "execute_result"
    }
   ],
   "source": [
    "population.head()"
   ]
  },
  {
   "cell_type": "code",
   "execution_count": 11,
   "metadata": {
    "collapsed": false
   },
   "outputs": [
    {
     "data": {
      "text/plain": [
       "array(['\\ufeffzipcode', 'density', 'population'], dtype=object)"
      ]
     },
     "execution_count": 11,
     "metadata": {},
     "output_type": "execute_result"
    }
   ],
   "source": [
    "population.columns.values"
   ]
  },
  {
   "cell_type": "code",
   "execution_count": 12,
   "metadata": {
    "collapsed": false
   },
   "outputs": [
    {
     "data": {
      "text/plain": [
       "array(['zip', 'num'], dtype=object)"
      ]
     },
     "execution_count": 12,
     "metadata": {},
     "output_type": "execute_result"
    }
   ],
   "source": [
    "crime.columns.values"
   ]
  },
  {
   "cell_type": "code",
   "execution_count": 13,
   "metadata": {
    "collapsed": false
   },
   "outputs": [],
   "source": [
    "crime_pop=pd.merge(population,crime,left_on='\\ufeffzipcode',right_on='zip')"
   ]
  },
  {
   "cell_type": "code",
   "execution_count": 17,
   "metadata": {
    "collapsed": false
   },
   "outputs": [
    {
     "data": {
      "text/html": [
       "<div>\n",
       "<table border=\"1\" class=\"dataframe\">\n",
       "  <thead>\n",
       "    <tr style=\"text-align: right;\">\n",
       "      <th></th>\n",
       "      <th>﻿zipcode</th>\n",
       "      <th>density</th>\n",
       "      <th>population</th>\n",
       "      <th>zip</th>\n",
       "      <th>num</th>\n",
       "    </tr>\n",
       "  </thead>\n",
       "  <tbody>\n",
       "    <tr>\n",
       "      <th>0</th>\n",
       "      <td>10001</td>\n",
       "      <td>35350</td>\n",
       "      <td>21102</td>\n",
       "      <td>10001</td>\n",
       "      <td>116</td>\n",
       "    </tr>\n",
       "    <tr>\n",
       "      <th>1</th>\n",
       "      <td>10002</td>\n",
       "      <td>93461</td>\n",
       "      <td>81410</td>\n",
       "      <td>10002</td>\n",
       "      <td>87</td>\n",
       "    </tr>\n",
       "    <tr>\n",
       "      <th>2</th>\n",
       "      <td>10003</td>\n",
       "      <td>99419</td>\n",
       "      <td>56024</td>\n",
       "      <td>10003</td>\n",
       "      <td>124</td>\n",
       "    </tr>\n",
       "    <tr>\n",
       "      <th>3</th>\n",
       "      <td>10004</td>\n",
       "      <td>5015</td>\n",
       "      <td>3089</td>\n",
       "      <td>10004</td>\n",
       "      <td>4</td>\n",
       "    </tr>\n",
       "    <tr>\n",
       "      <th>4</th>\n",
       "      <td>10005</td>\n",
       "      <td>92791</td>\n",
       "      <td>7135</td>\n",
       "      <td>10005</td>\n",
       "      <td>7</td>\n",
       "    </tr>\n",
       "  </tbody>\n",
       "</table>\n",
       "</div>"
      ],
      "text/plain": [
       "   ﻿zipcode  density  population    zip  num\n",
       "0     10001    35350       21102  10001  116\n",
       "1     10002    93461       81410  10002   87\n",
       "2     10003    99419       56024  10003  124\n",
       "3     10004     5015        3089  10004    4\n",
       "4     10005    92791        7135  10005    7"
      ]
     },
     "execution_count": 17,
     "metadata": {},
     "output_type": "execute_result"
    }
   ],
   "source": [
    "crime_pop.head()"
   ]
  },
  {
   "cell_type": "code",
   "execution_count": 25,
   "metadata": {
    "collapsed": false
   },
   "outputs": [],
   "source": [
    "crime_pop['num/perpson']=crime_pop['num']/crime_pop['population']"
   ]
  },
  {
   "cell_type": "code",
   "execution_count": 26,
   "metadata": {
    "collapsed": false
   },
   "outputs": [
    {
     "data": {
      "text/html": [
       "<div>\n",
       "<table border=\"1\" class=\"dataframe\">\n",
       "  <thead>\n",
       "    <tr style=\"text-align: right;\">\n",
       "      <th></th>\n",
       "      <th>﻿zipcode</th>\n",
       "      <th>density</th>\n",
       "      <th>population</th>\n",
       "      <th>zip</th>\n",
       "      <th>num</th>\n",
       "      <th>num/perpson</th>\n",
       "    </tr>\n",
       "  </thead>\n",
       "  <tbody>\n",
       "    <tr>\n",
       "      <th>0</th>\n",
       "      <td>10001</td>\n",
       "      <td>35350</td>\n",
       "      <td>21102</td>\n",
       "      <td>10001</td>\n",
       "      <td>116</td>\n",
       "      <td>0.005497</td>\n",
       "    </tr>\n",
       "    <tr>\n",
       "      <th>1</th>\n",
       "      <td>10002</td>\n",
       "      <td>93461</td>\n",
       "      <td>81410</td>\n",
       "      <td>10002</td>\n",
       "      <td>87</td>\n",
       "      <td>0.001069</td>\n",
       "    </tr>\n",
       "    <tr>\n",
       "      <th>2</th>\n",
       "      <td>10003</td>\n",
       "      <td>99419</td>\n",
       "      <td>56024</td>\n",
       "      <td>10003</td>\n",
       "      <td>124</td>\n",
       "      <td>0.002213</td>\n",
       "    </tr>\n",
       "    <tr>\n",
       "      <th>3</th>\n",
       "      <td>10004</td>\n",
       "      <td>5015</td>\n",
       "      <td>3089</td>\n",
       "      <td>10004</td>\n",
       "      <td>4</td>\n",
       "      <td>0.001295</td>\n",
       "    </tr>\n",
       "    <tr>\n",
       "      <th>4</th>\n",
       "      <td>10005</td>\n",
       "      <td>92791</td>\n",
       "      <td>7135</td>\n",
       "      <td>10005</td>\n",
       "      <td>7</td>\n",
       "      <td>0.000981</td>\n",
       "    </tr>\n",
       "  </tbody>\n",
       "</table>\n",
       "</div>"
      ],
      "text/plain": [
       "   ﻿zipcode  density  population    zip  num  num/perpson\n",
       "0     10001    35350       21102  10001  116     0.005497\n",
       "1     10002    93461       81410  10002   87     0.001069\n",
       "2     10003    99419       56024  10003  124     0.002213\n",
       "3     10004     5015        3089  10004    4     0.001295\n",
       "4     10005    92791        7135  10005    7     0.000981"
      ]
     },
     "execution_count": 26,
     "metadata": {},
     "output_type": "execute_result"
    }
   ],
   "source": [
    "crime_pop.head()"
   ]
  },
  {
   "cell_type": "code",
   "execution_count": 27,
   "metadata": {
    "collapsed": true
   },
   "outputs": [],
   "source": [
    "crime_pop.to_csv('crimePerPerson.csv',encoding='utf-8',index=False)"
   ]
  },
  {
   "cell_type": "code",
   "execution_count": 4,
   "metadata": {
    "collapsed": true
   },
   "outputs": [],
   "source": [
    "income=pd.read_csv(\"income_byZip.csv\")"
   ]
  },
  {
   "cell_type": "code",
   "execution_count": 5,
   "metadata": {
    "collapsed": false
   },
   "outputs": [
    {
     "data": {
      "text/html": [
       "<div>\n",
       "<table border=\"1\" class=\"dataframe\">\n",
       "  <thead>\n",
       "    <tr style=\"text-align: right;\">\n",
       "      <th></th>\n",
       "      <th>﻿zipcode</th>\n",
       "      <th>Median Household income</th>\n",
       "      <th>Per-capital Income</th>\n",
       "    </tr>\n",
       "  </thead>\n",
       "  <tbody>\n",
       "    <tr>\n",
       "      <th>0</th>\n",
       "      <td>11359</td>\n",
       "      <td>68,684</td>\n",
       "      <td>0</td>\n",
       "    </tr>\n",
       "    <tr>\n",
       "      <th>1</th>\n",
       "      <td>10454</td>\n",
       "      <td>26048</td>\n",
       "      <td>11583</td>\n",
       "    </tr>\n",
       "    <tr>\n",
       "      <th>2</th>\n",
       "      <td>10474</td>\n",
       "      <td>27,424</td>\n",
       "      <td>11884</td>\n",
       "    </tr>\n",
       "    <tr>\n",
       "      <th>3</th>\n",
       "      <td>10455</td>\n",
       "      <td>26,186</td>\n",
       "      <td>12279</td>\n",
       "    </tr>\n",
       "    <tr>\n",
       "      <th>4</th>\n",
       "      <td>10453</td>\n",
       "      <td>0</td>\n",
       "      <td>12377</td>\n",
       "    </tr>\n",
       "  </tbody>\n",
       "</table>\n",
       "</div>"
      ],
      "text/plain": [
       "   ﻿zipcode Median Household income Per-capital Income\n",
       "0     11359                  68,684                  0\n",
       "1     10454                   26048              11583\n",
       "2     10474                  27,424              11884\n",
       "3     10455                  26,186              12279\n",
       "4     10453                       0              12377"
      ]
     },
     "execution_count": 5,
     "metadata": {},
     "output_type": "execute_result"
    }
   ],
   "source": [
    "income.head()"
   ]
  },
  {
   "cell_type": "code",
   "execution_count": 28,
   "metadata": {
    "collapsed": false
   },
   "outputs": [
    {
     "data": {
      "text/plain": [
       "array(['\\ufeffzipcode', 'Median Household income', 'Per-capital Income'], dtype=object)"
      ]
     },
     "execution_count": 28,
     "metadata": {},
     "output_type": "execute_result"
    }
   ],
   "source": [
    "income.columns.values"
   ]
  },
  {
   "cell_type": "code",
   "execution_count": 87,
   "metadata": {
    "collapsed": false
   },
   "outputs": [],
   "source": [
    "crime_pop_income=pd.merge(crime_pop,income,left_on='zip',right_on='\\ufeffzipcode')\n"
   ]
  },
  {
   "cell_type": "code",
   "execution_count": 49,
   "metadata": {
    "collapsed": false
   },
   "outputs": [
    {
     "data": {
      "text/html": [
       "<div>\n",
       "<table border=\"1\" class=\"dataframe\">\n",
       "  <thead>\n",
       "    <tr style=\"text-align: right;\">\n",
       "      <th></th>\n",
       "      <th>﻿zipcode_x</th>\n",
       "      <th>density</th>\n",
       "      <th>population</th>\n",
       "      <th>zip</th>\n",
       "      <th>num</th>\n",
       "      <th>num/perpson</th>\n",
       "      <th>﻿zipcode_y</th>\n",
       "      <th>Median Household income</th>\n",
       "      <th>Per-capital Income</th>\n",
       "    </tr>\n",
       "  </thead>\n",
       "  <tbody>\n",
       "    <tr>\n",
       "      <th>0</th>\n",
       "      <td>10001</td>\n",
       "      <td>35350</td>\n",
       "      <td>21102</td>\n",
       "      <td>10001</td>\n",
       "      <td>116</td>\n",
       "      <td>0.005497</td>\n",
       "      <td>10001</td>\n",
       "      <td>51,568</td>\n",
       "      <td>80,990</td>\n",
       "    </tr>\n",
       "    <tr>\n",
       "      <th>1</th>\n",
       "      <td>10002</td>\n",
       "      <td>93461</td>\n",
       "      <td>81410</td>\n",
       "      <td>10002</td>\n",
       "      <td>87</td>\n",
       "      <td>0.001069</td>\n",
       "      <td>10002</td>\n",
       "      <td>57,207</td>\n",
       "      <td>27,867</td>\n",
       "    </tr>\n",
       "    <tr>\n",
       "      <th>2</th>\n",
       "      <td>10003</td>\n",
       "      <td>99419</td>\n",
       "      <td>56024</td>\n",
       "      <td>10003</td>\n",
       "      <td>124</td>\n",
       "      <td>0.002213</td>\n",
       "      <td>10003</td>\n",
       "      <td>57,565</td>\n",
       "      <td>80,936</td>\n",
       "    </tr>\n",
       "    <tr>\n",
       "      <th>3</th>\n",
       "      <td>10004</td>\n",
       "      <td>5015</td>\n",
       "      <td>3089</td>\n",
       "      <td>10004</td>\n",
       "      <td>4</td>\n",
       "      <td>0.001295</td>\n",
       "      <td>10004</td>\n",
       "      <td>55,331</td>\n",
       "      <td>90,205</td>\n",
       "    </tr>\n",
       "    <tr>\n",
       "      <th>4</th>\n",
       "      <td>10005</td>\n",
       "      <td>92791</td>\n",
       "      <td>7135</td>\n",
       "      <td>10005</td>\n",
       "      <td>7</td>\n",
       "      <td>0.000981</td>\n",
       "      <td>10005</td>\n",
       "      <td>56,120</td>\n",
       "      <td>96,940</td>\n",
       "    </tr>\n",
       "  </tbody>\n",
       "</table>\n",
       "</div>"
      ],
      "text/plain": [
       "   ﻿zipcode_x  density  population    zip  num  num/perpson  ﻿zipcode_y  \\\n",
       "0       10001    35350       21102  10001  116     0.005497       10001   \n",
       "1       10002    93461       81410  10002   87     0.001069       10002   \n",
       "2       10003    99419       56024  10003  124     0.002213       10003   \n",
       "3       10004     5015        3089  10004    4     0.001295       10004   \n",
       "4       10005    92791        7135  10005    7     0.000981       10005   \n",
       "\n",
       "  Median Household income Per-capital Income  \n",
       "0                  51,568             80,990  \n",
       "1                  57,207             27,867  \n",
       "2                  57,565             80,936  \n",
       "3                  55,331             90,205  \n",
       "4                  56,120             96,940  "
      ]
     },
     "execution_count": 49,
     "metadata": {},
     "output_type": "execute_result"
    }
   ],
   "source": [
    "crime_pop_income.head()"
   ]
  },
  {
   "cell_type": "code",
   "execution_count": 88,
   "metadata": {
    "collapsed": true
   },
   "outputs": [],
   "source": [
    "crime_pop_income['Per-capital Income']=crime_pop_income['Per-capital Income'].str.replace(\",\", \"\")\n",
    "crime_pop_income['Per-capital Income']=crime_pop_income['Per-capital Income'].astype(int)"
   ]
  },
  {
   "cell_type": "code",
   "execution_count": 89,
   "metadata": {
    "collapsed": false
   },
   "outputs": [],
   "source": [
    "#cols_to_norm = ['Per-capital Income','num/perpson','num']\n",
    "#crime_pop_income[cols_to_norm] = crime_pop_income[cols_to_norm].apply(lambda x: (x - x.min()) / (x.max() - x.min()))\n",
    "#crime_pop_income_norm = (crime_pop_income - crime_pop_income.mean()) / (crime_pop_income.max() - crime_pop_income.min())"
   ]
  },
  {
   "cell_type": "code",
   "execution_count": 90,
   "metadata": {
    "collapsed": false
   },
   "outputs": [
    {
     "data": {
      "text/html": [
       "<div>\n",
       "<table border=\"1\" class=\"dataframe\">\n",
       "  <thead>\n",
       "    <tr style=\"text-align: right;\">\n",
       "      <th></th>\n",
       "      <th>﻿zipcode_x</th>\n",
       "      <th>density</th>\n",
       "      <th>population</th>\n",
       "      <th>zip</th>\n",
       "      <th>num</th>\n",
       "      <th>num/perpson</th>\n",
       "      <th>﻿zipcode_y</th>\n",
       "      <th>Median Household income</th>\n",
       "      <th>Per-capital Income</th>\n",
       "    </tr>\n",
       "  </thead>\n",
       "  <tbody>\n",
       "    <tr>\n",
       "      <th>0</th>\n",
       "      <td>10001</td>\n",
       "      <td>35350</td>\n",
       "      <td>21102</td>\n",
       "      <td>10001</td>\n",
       "      <td>116</td>\n",
       "      <td>0.005497</td>\n",
       "      <td>10001</td>\n",
       "      <td>51,568</td>\n",
       "      <td>80990</td>\n",
       "    </tr>\n",
       "    <tr>\n",
       "      <th>1</th>\n",
       "      <td>10002</td>\n",
       "      <td>93461</td>\n",
       "      <td>81410</td>\n",
       "      <td>10002</td>\n",
       "      <td>87</td>\n",
       "      <td>0.001069</td>\n",
       "      <td>10002</td>\n",
       "      <td>57,207</td>\n",
       "      <td>27867</td>\n",
       "    </tr>\n",
       "    <tr>\n",
       "      <th>2</th>\n",
       "      <td>10003</td>\n",
       "      <td>99419</td>\n",
       "      <td>56024</td>\n",
       "      <td>10003</td>\n",
       "      <td>124</td>\n",
       "      <td>0.002213</td>\n",
       "      <td>10003</td>\n",
       "      <td>57,565</td>\n",
       "      <td>80936</td>\n",
       "    </tr>\n",
       "    <tr>\n",
       "      <th>3</th>\n",
       "      <td>10004</td>\n",
       "      <td>5015</td>\n",
       "      <td>3089</td>\n",
       "      <td>10004</td>\n",
       "      <td>4</td>\n",
       "      <td>0.001295</td>\n",
       "      <td>10004</td>\n",
       "      <td>55,331</td>\n",
       "      <td>90205</td>\n",
       "    </tr>\n",
       "    <tr>\n",
       "      <th>4</th>\n",
       "      <td>10005</td>\n",
       "      <td>92791</td>\n",
       "      <td>7135</td>\n",
       "      <td>10005</td>\n",
       "      <td>7</td>\n",
       "      <td>0.000981</td>\n",
       "      <td>10005</td>\n",
       "      <td>56,120</td>\n",
       "      <td>96940</td>\n",
       "    </tr>\n",
       "  </tbody>\n",
       "</table>\n",
       "</div>"
      ],
      "text/plain": [
       "   ﻿zipcode_x  density  population    zip  num  num/perpson  ﻿zipcode_y  \\\n",
       "0       10001    35350       21102  10001  116     0.005497       10001   \n",
       "1       10002    93461       81410  10002   87     0.001069       10002   \n",
       "2       10003    99419       56024  10003  124     0.002213       10003   \n",
       "3       10004     5015        3089  10004    4     0.001295       10004   \n",
       "4       10005    92791        7135  10005    7     0.000981       10005   \n",
       "\n",
       "  Median Household income  Per-capital Income  \n",
       "0                  51,568               80990  \n",
       "1                  57,207               27867  \n",
       "2                  57,565               80936  \n",
       "3                  55,331               90205  \n",
       "4                  56,120               96940  "
      ]
     },
     "execution_count": 90,
     "metadata": {},
     "output_type": "execute_result"
    }
   ],
   "source": [
    "crime_pop_income.head()"
   ]
  },
  {
   "cell_type": "code",
   "execution_count": 86,
   "metadata": {
    "collapsed": true
   },
   "outputs": [],
   "source": [
    "#crime_pop_income.to_csv('Normal_crimePerPerson.csv',encoding='utf-8',index=False)"
   ]
  },
  {
   "cell_type": "code",
   "execution_count": 98,
   "metadata": {
    "collapsed": false
   },
   "outputs": [
    {
     "data": {
      "image/png": "[encoded data removed]",
      "text/plain": [
       "<matplotlib.figure.Figure at 0x11aa6ad68>"
      ]
     },
     "metadata": {},
     "output_type": "display_data"
    }
   ],
   "source": [
    "\n",
    "\n",
    "crime_pop_income['num']=crime_pop_income['num'].astype(int)\n",
    "plt.plot(crime_pop_income['Per-capital Income'],crime_pop_income['num/perpson'], '.')\n",
    "plt.title(\"Number of Crimes Per Person VS Per-capita Income\")\n",
    "plt.ylabel(\"number of crime Per Person\")\n",
    "plt.xlabel(\"Per-capita Income\")\n",
    "plt.savefig(\"crimesRateVSincome.jpeg\")\n",
    "plt.show()"
   ]
  },
  {
   "cell_type": "code",
   "execution_count": 95,
   "metadata": {
    "collapsed": false
   },
   "outputs": [
    {
     "data": {
      "text/plain": [
       "0.13074270762249324"
      ]
     },
     "execution_count": 95,
     "metadata": {},
     "output_type": "execute_result"
    }
   ],
   "source": [
    "\n",
    "crime_pop_income['num/perpson'].corr(crime_pop_income['Per-capital Income'])"
   ]
  },
  {
   "cell_type": "markdown",
   "metadata": {},
   "source": [
    "By looking at the scatter plot above, we can see there are some outliers in number of crimes per person. Let us remove those outliers and replot."
   ]
  },
  {
   "cell_type": "code",
   "execution_count": 69,
   "metadata": {
    "collapsed": false
   },
   "outputs": [
    {
     "data": {
      "image/png": "[encoded data removed]",
      "text/plain": [
       "<matplotlib.figure.Figure at 0x11a2977f0>"
      ]
     },
     "metadata": {},
     "output_type": "display_data"
    }
   ],
   "source": [
    "plt.boxplot(crime_pop_income['num/perpson'])\n",
    "plt.title(\"box plot of number of crime per person\")\n",
    "plt.ylabel(\"number of crimes per person\")\n",
    "plt.savefig(\"crimePerPersonboxPlot.jpeg\")"
   ]
  },
  {
   "cell_type": "code",
   "execution_count": 70,
   "metadata": {
    "collapsed": false
   },
   "outputs": [
    {
     "data": {
      "image/png": "[encoded data removed]",
      "text/plain": [
       "<matplotlib.figure.Figure at 0x11a51fe10>"
      ]
     },
     "metadata": {},
     "output_type": "display_data"
    }
   ],
   "source": [
    "plt.boxplot(crime_pop_income['Per-capital Income'])\n",
    "plt.title(\"box plot of Per-capita Income\")\n",
    "plt.ylabel(\"Per-capita Income\")\n",
    "plt.savefig(\"Per-capita_IncomeboxPlot.jpeg\")"
   ]
  },
  {
   "cell_type": "code",
   "execution_count": 71,
   "metadata": {
    "collapsed": false
   },
   "outputs": [],
   "source": [
    "crime_pop_income_no_outlier=crime_pop_income[crime_pop_income['num/perpson']<0.004]\n",
    "crime_pop_income_no_outlier=crime_pop_income_no_outlier[crime_pop_income_no_outlier['Per-capital Income']<=60000]"
   ]
  },
  {
   "cell_type": "code",
   "execution_count": 72,
   "metadata": {
    "collapsed": false
   },
   "outputs": [
    {
     "data": {
      "text/plain": [
       "-0.38184994651356757"
      ]
     },
     "execution_count": 72,
     "metadata": {},
     "output_type": "execute_result"
    }
   ],
   "source": [
    "crime_pop_income_no_outlier['num/perpson'].corr(crime_pop_income_no_outlier['Per-capital Income'])"
   ]
  },
  {
   "cell_type": "code",
   "execution_count": 97,
   "metadata": {
    "collapsed": false
   },
   "outputs": [
    {
     "data": {
      "image/png": "[encoded data removed]",
      "text/plain": [
       "<matplotlib.figure.Figure at 0x11a261fd0>"
      ]
     },
     "metadata": {},
     "output_type": "display_data"
    }
   ],
   "source": [
    "\n",
    "plt.plot(crime_pop_income_no_outlier['Per-capital Income'],crime_pop_income_no_outlier['num/perpson'],  '.')\n",
    "plt.title(\"Number of Crimes Per Person VS Per-capita Income\")\n",
    "plt.ylabel(\"number of crime Per Person\")\n",
    "plt.xlabel(\"Per-capita Income\")\n",
    "plt.savefig(\"crimesRateVSincome_no_outlier.jpeg\")\n",
    "plt.show()"
   ]
  },
  {
   "cell_type": "code",
   "execution_count": 99,
   "metadata": {
    "collapsed": false
   },
   "outputs": [
    {
     "data": {
      "text/html": [
       "<div>\n",
       "<table border=\"1\" class=\"dataframe\">\n",
       "  <thead>\n",
       "    <tr style=\"text-align: right;\">\n",
       "      <th></th>\n",
       "      <th>﻿</th>\n",
       "      <th>total</th>\n",
       "      <th>robbery</th>\n",
       "      <th>frauds</th>\n",
       "    </tr>\n",
       "  </thead>\n",
       "  <tbody>\n",
       "    <tr>\n",
       "      <th>0</th>\n",
       "      <td>sat</td>\n",
       "      <td>-0.434326</td>\n",
       "      <td>-0.348659</td>\n",
       "      <td>-0.047084</td>\n",
       "    </tr>\n",
       "    <tr>\n",
       "      <th>1</th>\n",
       "      <td>single</td>\n",
       "      <td>0.492357</td>\n",
       "      <td>0.413971</td>\n",
       "      <td>-0.011195</td>\n",
       "    </tr>\n",
       "    <tr>\n",
       "      <th>2</th>\n",
       "      <td>teen</td>\n",
       "      <td>0.339510</td>\n",
       "      <td>0.400590</td>\n",
       "      <td>0.364411</td>\n",
       "    </tr>\n",
       "  </tbody>\n",
       "</table>\n",
       "</div>"
      ],
      "text/plain": [
       "        ﻿     total   robbery    frauds\n",
       "0     sat -0.434326 -0.348659 -0.047084\n",
       "1  single  0.492357  0.413971 -0.011195\n",
       "2    teen  0.339510  0.400590  0.364411"
      ]
     },
     "execution_count": 99,
     "metadata": {},
     "output_type": "execute_result"
    }
   ],
   "source": [
    "data=pd.read_csv(\"robbery_frauds_new.csv\")\n",
    "data.head()"
   ]
  },
  {
   "cell_type": "code",
   "execution_count": null,
   "metadata": {
    "collapsed": true
   },
   "outputs": [],
   "source": []
  }
 ],
 "metadata": {
  "kernelspec": {
   "display_name": "Python [Root]",
   "language": "python",
   "name": "Python [Root]"
  },
  "language_info": {
   "codemirror_mode": {
    "name": "ipython",
    "version": 3
   },
   "file_extension": ".py",
   "mimetype": "text/x-python",
   "name": "python",
   "nbconvert_exporter": "python",
   "pygments_lexer": "ipython3",
   "version": "3.5.2"
  }
 },
 "nbformat": 4,
 "nbformat_minor": 0
}
